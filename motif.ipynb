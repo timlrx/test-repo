{
 "cells": [
  {
   "cell_type": "code",
   "execution_count": 1,
   "metadata": {},
   "outputs": [],
   "source": [
    "from pymotif import Motif\n",
    "import networkx as nx\n",
    "\n",
    "# NETWORKX GRAPH\n",
    "g1 = nx.fast_gnp_random_graph(20, 0.3)"
   ]
  },
  {
   "cell_type": "code",
   "execution_count": 2,
   "metadata": {},
   "outputs": [
    {
     "data": {
      "application/vnd.jupyter.widget-view+json": {
       "model_id": "1c553840a37a4a6d98cae5160221ed0e",
       "version_major": 2,
       "version_minor": 0
      },
      "text/plain": [
       "Motif(value=None, layout=Layout(height='600px', width='100%'), state={'data': [{'nodes': [{'id': '0', 'value':…"
      ]
     },
     "metadata": {},
     "output_type": "display_data"
    }
   ],
   "source": [
    "motif = Motif(nx_graph=g1, title='random')\n",
    "motif.plot()"
   ]
  },
  {
   "cell_type": "code",
   "execution_count": 3,
   "metadata": {},
   "outputs": [
    {
     "data": {
      "application/vnd.jupyter.widget-view+json": {
       "model_id": "92dbf16ae92f4998a0f0081431c6534c",
       "version_major": 2,
       "version_minor": 0
      },
      "text/plain": [
       "Map(center=[52.204793, 360.121558], controls=(ZoomControl(options=['position', 'zoom_in_text', 'zoom_in_title'…"
      ]
     },
     "metadata": {},
     "output_type": "display_data"
    }
   ],
   "source": [
    "from ipyleaflet import Map, Marker\n",
    "\n",
    "center = (52.204793, 360.121558)\n",
    "\n",
    "m = Map(center=center, zoom=15)\n",
    "m"
   ]
  }
 ],
 "metadata": {
  "kernelspec": {
   "display_name": "Python 3",
   "language": "python",
   "name": "python3"
  },
  "language_info": {
   "codemirror_mode": {
    "name": "ipython",
    "version": 3
   },
   "file_extension": ".py",
   "mimetype": "text/x-python",
   "name": "python",
   "nbconvert_exporter": "python",
   "pygments_lexer": "ipython3",
   "version": "3.8.10"
  },
  "widgets": {
   "application/vnd.jupyter.widget-state+json": {
    "state": {
     "1c553840a37a4a6d98cae5160221ed0e": {
      "model_module": "@cylynx/pymotif",
      "model_module_version": "^0.0.1-beta.2",
      "model_name": "MotifModel",
      "state": {
       "_model_module_version": "^0.0.1-beta.2",
       "_view_module_version": "^0.0.1-beta.2",
       "group_edges": true,
       "layout": "IPY_MODEL_38c514d6af554b588833fa6a24f4bc27",
       "state": {
        "data": [
         {
          "edges": [
           {
            "source": 0,
            "target": 1
           },
           {
            "source": 0,
            "target": 2
           },
           {
            "source": 0,
            "target": 6
           },
           {
            "source": 0,
            "target": 7
           },
           {
            "source": 0,
            "target": 12
           },
           {
            "source": 0,
            "target": 13
           },
           {
            "source": 0,
            "target": 17
           },
           {
            "source": 0,
            "target": 18
           },
           {
            "source": 0,
            "target": 19
           },
           {
            "source": 1,
            "target": 10
           },
           {
            "source": 1,
            "target": 17
           },
           {
            "source": 1,
            "target": 19
           },
           {
            "source": 2,
            "target": 4
           },
           {
            "source": 2,
            "target": 5
           },
           {
            "source": 2,
            "target": 7
           },
           {
            "source": 2,
            "target": 11
           },
           {
            "source": 2,
            "target": 12
           },
           {
            "source": 2,
            "target": 13
           },
           {
            "source": 2,
            "target": 17
           },
           {
            "source": 3,
            "target": 5
           },
           {
            "source": 3,
            "target": 7
           },
           {
            "source": 3,
            "target": 19
           },
           {
            "source": 4,
            "target": 6
           },
           {
            "source": 4,
            "target": 10
           },
           {
            "source": 4,
            "target": 11
           },
           {
            "source": 4,
            "target": 16
           },
           {
            "source": 5,
            "target": 7
           },
           {
            "source": 5,
            "target": 9
           },
           {
            "source": 5,
            "target": 12
           },
           {
            "source": 5,
            "target": 15
           },
           {
            "source": 5,
            "target": 16
           },
           {
            "source": 5,
            "target": 17
           },
           {
            "source": 5,
            "target": 18
           },
           {
            "source": 6,
            "target": 9
           },
           {
            "source": 6,
            "target": 10
           },
           {
            "source": 6,
            "target": 17
           },
           {
            "source": 6,
            "target": 19
           },
           {
            "source": 7,
            "target": 9
           },
           {
            "source": 7,
            "target": 11
           },
           {
            "source": 7,
            "target": 15
           },
           {
            "source": 8,
            "target": 11
           },
           {
            "source": 8,
            "target": 13
           },
           {
            "source": 8,
            "target": 16
           },
           {
            "source": 8,
            "target": 17
           },
           {
            "source": 8,
            "target": 18
           },
           {
            "source": 8,
            "target": 19
           },
           {
            "source": 9,
            "target": 11
           },
           {
            "source": 9,
            "target": 13
           },
           {
            "source": 9,
            "target": 14
           },
           {
            "source": 9,
            "target": 18
           },
           {
            "source": 10,
            "target": 16
           },
           {
            "source": 10,
            "target": 19
           },
           {
            "source": 11,
            "target": 12
           },
           {
            "source": 11,
            "target": 14
           },
           {
            "source": 11,
            "target": 16
           },
           {
            "source": 12,
            "target": 15
           },
           {
            "source": 13,
            "target": 15
           },
           {
            "source": 13,
            "target": 18
           },
           {
            "source": 14,
            "target": 16
           },
           {
            "source": 14,
            "target": 17
           },
           {
            "source": 15,
            "target": 16
           }
          ],
          "metadata": {
           "title": "random"
          },
          "nodes": [
           {
            "id": "0",
            "name": "0",
            "value": 0
           },
           {
            "id": "1",
            "name": "1",
            "value": 1
           },
           {
            "id": "2",
            "name": "2",
            "value": 2
           },
           {
            "id": "3",
            "name": "3",
            "value": 3
           },
           {
            "id": "4",
            "name": "4",
            "value": 4
           },
           {
            "id": "5",
            "name": "5",
            "value": 5
           },
           {
            "id": "6",
            "name": "6",
            "value": 6
           },
           {
            "id": "7",
            "name": "7",
            "value": 7
           },
           {
            "id": "8",
            "name": "8",
            "value": 8
           },
           {
            "id": "9",
            "name": "9",
            "value": 9
           },
           {
            "id": "10",
            "name": "10",
            "value": 10
           },
           {
            "id": "11",
            "name": "11",
            "value": 11
           },
           {
            "id": "12",
            "name": "12",
            "value": 12
           },
           {
            "id": "13",
            "name": "13",
            "value": 13
           },
           {
            "id": "14",
            "name": "14",
            "value": 14
           },
           {
            "id": "15",
            "name": "15",
            "value": 15
           },
           {
            "id": "16",
            "name": "16",
            "value": 16
           },
           {
            "id": "17",
            "name": "17",
            "value": 17
           },
           {
            "id": "18",
            "name": "18",
            "value": 18
           },
           {
            "id": "19",
            "name": "19",
            "value": 19
           }
          ]
         }
        ],
        "style": {}
       }
      }
     },
     "38c514d6af554b588833fa6a24f4bc27": {
      "model_module": "@jupyter-widgets/base",
      "model_module_version": "1.2.0",
      "model_name": "LayoutModel",
      "state": {
       "height": "600px",
       "width": "100%"
      }
     },
     "5e3f9f5563564aeaa2070a6647c941eb": {
      "model_module": "jupyter-leaflet",
      "model_module_version": "^0.13.5",
      "model_name": "LeafletMapStyleModel",
      "state": {
       "_model_module_version": "^0.13.5"
      }
     },
     "65b83d3a336441cfb1624895b613098f": {
      "model_module": "jupyter-leaflet",
      "model_module_version": "^0.13.5",
      "model_name": "LeafletZoomControlModel",
      "state": {
       "_model_module_version": "^0.13.5",
       "_view_module_version": "^0.13.5",
       "options": [
        "position",
        "zoom_in_text",
        "zoom_in_title",
        "zoom_out_text",
        "zoom_out_title"
       ]
      }
     },
     "819a2674254342aba642053881cfaf38": {
      "model_module": "@jupyter-widgets/base",
      "model_module_version": "1.2.0",
      "model_name": "LayoutModel",
      "state": {}
     },
     "82c7ccfde9b94eb9ac52c03977a3cadc": {
      "model_module": "jupyter-leaflet",
      "model_module_version": "^0.13.5",
      "model_name": "LeafletMapStyleModel",
      "state": {
       "_model_module_version": "^0.13.5",
       "cursor": "move"
      }
     },
     "92dbf16ae92f4998a0f0081431c6534c": {
      "model_module": "jupyter-leaflet",
      "model_module_version": "^0.13.5",
      "model_name": "LeafletMapModel",
      "state": {
       "_model_module_version": "^0.13.5",
       "_view_module_version": "^0.13.5",
       "bottom": 2763315,
       "center": [
        52.204793,
        360.121558
       ],
       "controls": [
        "IPY_MODEL_65b83d3a336441cfb1624895b613098f",
        "IPY_MODEL_afd1cefd9728441992c095fcdf9e6e46"
       ],
       "default_style": "IPY_MODEL_5e3f9f5563564aeaa2070a6647c941eb",
       "dragging_style": "IPY_MODEL_82c7ccfde9b94eb9ac52c03977a3cadc",
       "east": 360.1529502868653,
       "fullscreen": false,
       "interpolation": "bilinear",
       "layers": [
        "IPY_MODEL_f466011b046e46068d5175a533e86948"
       ],
       "layout": "IPY_MODEL_819a2674254342aba642053881cfaf38",
       "left": 12585013,
       "modisdate": "yesterday",
       "north": 52.21005237674974,
       "options": [
        "bounce_at_zoom_limits",
        "box_zoom",
        "center",
        "close_popup_on_click",
        "double_click_zoom",
        "dragging",
        "fullscreen",
        "inertia",
        "inertia_deceleration",
        "inertia_max_speed",
        "interpolation",
        "keyboard",
        "keyboard_pan_offset",
        "keyboard_zoom_offset",
        "max_zoom",
        "min_zoom",
        "scroll_wheel_zoom",
        "tap",
        "tap_tolerance",
        "touch_zoom",
        "world_copy_jump",
        "zoom",
        "zoom_animation_threshold",
        "zoom_delta",
        "zoom_snap",
        "zoom_start"
       ],
       "right": 12586476,
       "south": 52.1995322644825,
       "style": "IPY_MODEL_d822b10c97664ae082009a50178235e9",
       "top": 2762915,
       "west": 180,
       "window_url": "http://localhost:8888/lab/workspaces/auto-o/tree/motif.ipynb",
       "zoom": 15
      }
     },
     "afd1cefd9728441992c095fcdf9e6e46": {
      "model_module": "jupyter-leaflet",
      "model_module_version": "^0.13.5",
      "model_name": "LeafletAttributionControlModel",
      "state": {
       "_model_module_version": "^0.13.5",
       "_view_module_version": "^0.13.5",
       "options": [
        "position",
        "prefix"
       ],
       "position": "bottomright",
       "prefix": "ipyleaflet"
      }
     },
     "d822b10c97664ae082009a50178235e9": {
      "model_module": "jupyter-leaflet",
      "model_module_version": "^0.13.5",
      "model_name": "LeafletMapStyleModel",
      "state": {
       "_model_module_version": "^0.13.5"
      }
     },
     "f466011b046e46068d5175a533e86948": {
      "model_module": "jupyter-leaflet",
      "model_module_version": "^0.13.5",
      "model_name": "LeafletTileLayerModel",
      "state": {
       "_model_module_version": "^0.13.5",
       "_view_module_version": "^0.13.5",
       "base": true,
       "max_native_zoom": 18,
       "max_zoom": 19,
       "min_native_zoom": 0,
       "min_zoom": 1,
       "options": [
        "attribution",
        "detect_retina",
        "max_native_zoom",
        "max_zoom",
        "min_native_zoom",
        "min_zoom",
        "no_wrap",
        "tile_size",
        "tms"
       ]
      }
     }
    },
    "version_major": 2,
    "version_minor": 0
   }
  }
 },
 "nbformat": 4,
 "nbformat_minor": 4
}
