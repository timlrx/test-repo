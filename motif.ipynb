{
 "cells": [
  {
   "cell_type": "code",
   "execution_count": 1,
   "metadata": {},
   "outputs": [],
   "source": [
    "from motif_jupyter import Motif\n",
    "import networkx as nx\n",
    "\n",
    "# NETWORKX GRAPH\n",
    "g1 = nx.fast_gnp_random_graph(20, 0.3)"
   ]
  },
  {
   "cell_type": "code",
   "execution_count": 2,
   "metadata": {},
   "outputs": [
    {
     "data": {
      "application/vnd.jupyter.widget-view+json": {
       "model_id": "d3ee01eff79742feab42e355365fc461",
       "version_major": 2,
       "version_minor": 0
      },
      "text/plain": [
       "Motif(value=None, layout=Layout(height='600px', width='100%'), state={'data': [{'nodes': [{'id': '0', 'value':…"
      ]
     },
     "metadata": {},
     "output_type": "display_data"
    }
   ],
   "source": [
    "motif = Motif(nx_graph=g1, title='random')\n",
    "motif.plot()"
   ]
  },
  {
   "cell_type": "code",
   "execution_count": 3,
   "metadata": {},
   "outputs": [
    {
     "data": {
      "application/vnd.jupyter.widget-view+json": {
       "model_id": "d3ee01eff79742feab42e355365fc461",
       "version_major": 2,
       "version_minor": 0
      },
      "text/plain": [
       "Motif(value=None, layout=Layout(height='600px', width='100%'), state={'data': [{'nodes': [{'id': '0', 'value':…"
      ]
     },
     "metadata": {},
     "output_type": "display_data"
    }
   ],
   "source": [
    "style = { 'layout': { 'type': 'radial' } }\n",
    "motif.set_style(style)\n",
    "motif"
   ]
  },
  {
   "cell_type": "code",
   "execution_count": 4,
   "metadata": {},
   "outputs": [
    {
     "data": {
      "application/vnd.jupyter.widget-view+json": {
       "model_id": "d3ee01eff79742feab42e355365fc461",
       "version_major": 2,
       "version_minor": 0
      },
      "text/plain": [
       "Motif(value=None, layout=Layout(height='600px', width='100%'), state={'data': [{'nodes': [{'id': '0', 'value':…"
      ]
     },
     "metadata": {},
     "output_type": "display_data"
    }
   ],
   "source": [
    "motif"
   ]
  }
 ],
 "metadata": {
  "kernelspec": {
   "display_name": "Python 3",
   "language": "python",
   "name": "python3"
  },
  "language_info": {
   "codemirror_mode": {
    "name": "ipython",
    "version": 3
   },
   "file_extension": ".py",
   "mimetype": "text/x-python",
   "name": "python",
   "nbconvert_exporter": "python",
   "pygments_lexer": "ipython3",
   "version": "3.8.10"
  },
  "widgets": {
   "application/vnd.jupyter.widget-state+json": {
    "state": {
     "d3ee01eff79742feab42e355365fc461": {
      "model_module": "motif-jupyter",
      "model_module_version": "^0.0.1-beta.5",
      "model_name": "MotifModel",
      "state": {
       "_model_module_version": "^0.0.1-beta.5",
       "_view_module_version": "^0.0.1-beta.5",
       "group_edges": true,
       "layout": "IPY_MODEL_f60ed5a640164d84bcec740aabda0eb2",
       "state": {
        "data": [
         {
          "edges": [
           {
            "source": 0,
            "target": 1
           },
           {
            "source": 0,
            "target": 9
           },
           {
            "source": 0,
            "target": 14
           },
           {
            "source": 0,
            "target": 15
           },
           {
            "source": 0,
            "target": 17
           },
           {
            "source": 1,
            "target": 10
           },
           {
            "source": 1,
            "target": 11
           },
           {
            "source": 1,
            "target": 12
           },
           {
            "source": 1,
            "target": 16
           },
           {
            "source": 1,
            "target": 17
           },
           {
            "source": 2,
            "target": 3
           },
           {
            "source": 2,
            "target": 5
           },
           {
            "source": 2,
            "target": 10
           },
           {
            "source": 2,
            "target": 15
           },
           {
            "source": 2,
            "target": 18
           },
           {
            "source": 3,
            "target": 8
           },
           {
            "source": 3,
            "target": 10
           },
           {
            "source": 3,
            "target": 11
           },
           {
            "source": 3,
            "target": 15
           },
           {
            "source": 3,
            "target": 18
           },
           {
            "source": 4,
            "target": 8
           },
           {
            "source": 4,
            "target": 13
           },
           {
            "source": 4,
            "target": 14
           },
           {
            "source": 4,
            "target": 16
           },
           {
            "source": 5,
            "target": 7
           },
           {
            "source": 5,
            "target": 11
           },
           {
            "source": 5,
            "target": 14
           },
           {
            "source": 5,
            "target": 17
           },
           {
            "source": 5,
            "target": 18
           },
           {
            "source": 5,
            "target": 19
           },
           {
            "source": 7,
            "target": 9
           },
           {
            "source": 7,
            "target": 12
           },
           {
            "source": 7,
            "target": 15
           },
           {
            "source": 7,
            "target": 16
           },
           {
            "source": 7,
            "target": 17
           },
           {
            "source": 7,
            "target": 18
           },
           {
            "source": 8,
            "target": 14
           },
           {
            "source": 9,
            "target": 10
           },
           {
            "source": 9,
            "target": 11
           },
           {
            "source": 10,
            "target": 15
           },
           {
            "source": 10,
            "target": 19
           },
           {
            "source": 11,
            "target": 13
           },
           {
            "source": 12,
            "target": 13
           },
           {
            "source": 12,
            "target": 14
           },
           {
            "source": 12,
            "target": 17
           },
           {
            "source": 13,
            "target": 14
           },
           {
            "source": 13,
            "target": 15
           },
           {
            "source": 13,
            "target": 16
           },
           {
            "source": 13,
            "target": 17
           },
           {
            "source": 13,
            "target": 18
           },
           {
            "source": 13,
            "target": 19
           },
           {
            "source": 14,
            "target": 16
           },
           {
            "source": 14,
            "target": 19
           },
           {
            "source": 16,
            "target": 19
           },
           {
            "source": 17,
            "target": 18
           }
          ],
          "metadata": {
           "title": "random"
          },
          "nodes": [
           {
            "id": "0",
            "name": "0",
            "value": 0
           },
           {
            "id": "1",
            "name": "1",
            "value": 1
           },
           {
            "id": "2",
            "name": "2",
            "value": 2
           },
           {
            "id": "3",
            "name": "3",
            "value": 3
           },
           {
            "id": "4",
            "name": "4",
            "value": 4
           },
           {
            "id": "5",
            "name": "5",
            "value": 5
           },
           {
            "id": "6",
            "name": "6",
            "value": 6
           },
           {
            "id": "7",
            "name": "7",
            "value": 7
           },
           {
            "id": "8",
            "name": "8",
            "value": 8
           },
           {
            "id": "9",
            "name": "9",
            "value": 9
           },
           {
            "id": "10",
            "name": "10",
            "value": 10
           },
           {
            "id": "11",
            "name": "11",
            "value": 11
           },
           {
            "id": "12",
            "name": "12",
            "value": 12
           },
           {
            "id": "13",
            "name": "13",
            "value": 13
           },
           {
            "id": "14",
            "name": "14",
            "value": 14
           },
           {
            "id": "15",
            "name": "15",
            "value": 15
           },
           {
            "id": "16",
            "name": "16",
            "value": 16
           },
           {
            "id": "17",
            "name": "17",
            "value": 17
           },
           {
            "id": "18",
            "name": "18",
            "value": 18
           },
           {
            "id": "19",
            "name": "19",
            "value": 19
           }
          ]
         }
        ],
        "style": {
         "layout": {
          "type": "radial"
         }
        }
       }
      }
     },
     "f60ed5a640164d84bcec740aabda0eb2": {
      "model_module": "@jupyter-widgets/base",
      "model_module_version": "1.2.0",
      "model_name": "LayoutModel",
      "state": {
       "height": "600px",
       "width": "100%"
      }
     }
    },
    "version_major": 2,
    "version_minor": 0
   }
  }
 },
 "nbformat": 4,
 "nbformat_minor": 4
}
