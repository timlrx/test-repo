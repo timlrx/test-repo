{
 "cells": [
  {
   "cell_type": "code",
   "execution_count": 1,
   "metadata": {},
   "outputs": [],
   "source": [
    "from motif_jupyter import Motif\n",
    "import networkx as nx\n",
    "\n",
    "# NETWORKX GRAPH\n",
    "g1 = nx.fast_gnp_random_graph(20, 0.3)"
   ]
  },
  {
   "cell_type": "code",
   "execution_count": 2,
   "metadata": {},
   "outputs": [
    {
     "data": {
      "application/vnd.jupyter.widget-view+json": {
       "model_id": "0e108d260142412ebfdf0f3a965bacde",
       "version_major": 2,
       "version_minor": 0
      },
      "text/plain": [
       "Motif(value=None, layout=Layout(height='600px', width='100%'), state={'data': [{'nodes': [{'id': '0', 'value':…"
      ]
     },
     "metadata": {},
     "output_type": "display_data"
    }
   ],
   "source": [
    "motif = Motif(nx_graph=g1, title='random')\n",
    "motif.plot()"
   ]
  },
  {
   "cell_type": "code",
   "execution_count": 6,
   "metadata": {},
   "outputs": [
    {
     "data": {
      "application/vnd.jupyter.widget-view+json": {
       "model_id": "3225b96e411542dda1c11d72b896b84d",
       "version_major": 2,
       "version_minor": 0
      },
      "text/plain": [
       "Map(center=[52.204793, 360.121558], controls=(ZoomControl(options=['position', 'zoom_in_text', 'zoom_in_title'…"
      ]
     },
     "metadata": {},
     "output_type": "display_data"
    }
   ],
   "source": [
    "from ipyleaflet import Map, Marker\n",
    "\n",
    "center = (52.204793, 360.121558)\n",
    "\n",
    "m = Map(center=center, zoom=15)\n",
    "m"
   ]
  },
  {
   "cell_type": "code",
   "execution_count": 3,
   "metadata": {},
   "outputs": [
    {
     "data": {
      "application/vnd.jupyter.widget-view+json": {
       "model_id": "d3ee01eff79742feab42e355365fc461",
       "version_major": 2,
       "version_minor": 0
      },
      "text/plain": [
       "Motif(value=None, layout=Layout(height='600px', width='100%'), state={'data': [{'nodes': [{'id': '0', 'value':…"
      ]
     },
     "metadata": {},
     "output_type": "display_data"
    }
   ],
   "source": [
    "style = { 'layout': { 'type': 'radial' } }\n",
    "motif.set_style(style)\n",
    "motif"
   ]
  }
 ],
 "metadata": {
  "kernelspec": {
   "display_name": "Python 3",
   "language": "python",
   "name": "python3"
  },
  "language_info": {
   "codemirror_mode": {
    "name": "ipython",
    "version": 3
   },
   "file_extension": ".py",
   "mimetype": "text/x-python",
   "name": "python",
   "nbconvert_exporter": "python",
   "pygments_lexer": "ipython3",
   "version": "3.8.10"
  },
  "widgets": {
   "application/vnd.jupyter.widget-state+json": {
    "state": {
     "001f2861d01c459a8d79d4786ef78faa": {
      "model_module": "jupyter-leaflet",
      "model_module_version": "^0.13.5",
      "model_name": "LeafletMapStyleModel",
      "state": {
       "_model_module_version": "^0.13.5"
      }
     },
     "0aa8af8dd098409b9ff4efc997f4a343": {
      "model_module": "jupyter-leaflet",
      "model_module_version": "^0.13.5",
      "model_name": "LeafletZoomControlModel",
      "state": {
       "_model_module_version": "^0.13.5",
       "_view_module_version": "^0.13.5",
       "options": [
        "position",
        "zoom_in_text",
        "zoom_in_title",
        "zoom_out_text",
        "zoom_out_title"
       ]
      }
     },
     "0e108d260142412ebfdf0f3a965bacde": {
      "model_module": "motif-jupyter",
      "model_module_version": "^0.0.1-beta.5",
      "model_name": "MotifModel",
      "state": {
       "_model_module_version": "^0.0.1-beta.5",
       "_view_module_version": "^0.0.1-beta.5",
       "group_edges": true,
       "layout": "IPY_MODEL_5a34de982c584f6ab074988afd8bbbf2",
       "state": {
        "data": [
         {
          "edges": [
           {
            "source": 0,
            "target": 5
           },
           {
            "source": 0,
            "target": 7
           },
           {
            "source": 0,
            "target": 8
           },
           {
            "source": 0,
            "target": 13
           },
           {
            "source": 0,
            "target": 14
           },
           {
            "source": 0,
            "target": 16
           },
           {
            "source": 1,
            "target": 3
           },
           {
            "source": 1,
            "target": 5
           },
           {
            "source": 1,
            "target": 10
           },
           {
            "source": 1,
            "target": 15
           },
           {
            "source": 1,
            "target": 17
           },
           {
            "source": 1,
            "target": 18
           },
           {
            "source": 1,
            "target": 19
           },
           {
            "source": 2,
            "target": 5
           },
           {
            "source": 2,
            "target": 6
           },
           {
            "source": 2,
            "target": 9
           },
           {
            "source": 2,
            "target": 10
           },
           {
            "source": 2,
            "target": 11
           },
           {
            "source": 2,
            "target": 12
           },
           {
            "source": 2,
            "target": 14
           },
           {
            "source": 2,
            "target": 15
           },
           {
            "source": 2,
            "target": 16
           },
           {
            "source": 2,
            "target": 17
           },
           {
            "source": 2,
            "target": 18
           },
           {
            "source": 3,
            "target": 8
           },
           {
            "source": 3,
            "target": 14
           },
           {
            "source": 3,
            "target": 15
           },
           {
            "source": 3,
            "target": 19
           },
           {
            "source": 4,
            "target": 7
           },
           {
            "source": 4,
            "target": 10
           },
           {
            "source": 4,
            "target": 13
           },
           {
            "source": 4,
            "target": 15
           },
           {
            "source": 4,
            "target": 17
           },
           {
            "source": 4,
            "target": 18
           },
           {
            "source": 5,
            "target": 17
           },
           {
            "source": 5,
            "target": 18
           },
           {
            "source": 5,
            "target": 19
           },
           {
            "source": 6,
            "target": 7
           },
           {
            "source": 6,
            "target": 9
           },
           {
            "source": 6,
            "target": 10
           },
           {
            "source": 6,
            "target": 12
           },
           {
            "source": 6,
            "target": 13
           },
           {
            "source": 7,
            "target": 14
           },
           {
            "source": 7,
            "target": 17
           },
           {
            "source": 7,
            "target": 18
           },
           {
            "source": 8,
            "target": 10
           },
           {
            "source": 8,
            "target": 13
           },
           {
            "source": 8,
            "target": 14
           },
           {
            "source": 9,
            "target": 13
           },
           {
            "source": 9,
            "target": 14
           },
           {
            "source": 10,
            "target": 12
           },
           {
            "source": 10,
            "target": 16
           },
           {
            "source": 11,
            "target": 13
           },
           {
            "source": 12,
            "target": 14
           },
           {
            "source": 12,
            "target": 17
           },
           {
            "source": 12,
            "target": 18
           },
           {
            "source": 13,
            "target": 14
           },
           {
            "source": 13,
            "target": 15
           },
           {
            "source": 13,
            "target": 16
           },
           {
            "source": 13,
            "target": 18
           },
           {
            "source": 14,
            "target": 17
           },
           {
            "source": 14,
            "target": 18
           },
           {
            "source": 14,
            "target": 19
           },
           {
            "source": 15,
            "target": 16
           },
           {
            "source": 18,
            "target": 19
           }
          ],
          "metadata": {
           "title": "random"
          },
          "nodes": [
           {
            "id": "0",
            "name": "0",
            "value": 0
           },
           {
            "id": "1",
            "name": "1",
            "value": 1
           },
           {
            "id": "2",
            "name": "2",
            "value": 2
           },
           {
            "id": "3",
            "name": "3",
            "value": 3
           },
           {
            "id": "4",
            "name": "4",
            "value": 4
           },
           {
            "id": "5",
            "name": "5",
            "value": 5
           },
           {
            "id": "6",
            "name": "6",
            "value": 6
           },
           {
            "id": "7",
            "name": "7",
            "value": 7
           },
           {
            "id": "8",
            "name": "8",
            "value": 8
           },
           {
            "id": "9",
            "name": "9",
            "value": 9
           },
           {
            "id": "10",
            "name": "10",
            "value": 10
           },
           {
            "id": "11",
            "name": "11",
            "value": 11
           },
           {
            "id": "12",
            "name": "12",
            "value": 12
           },
           {
            "id": "13",
            "name": "13",
            "value": 13
           },
           {
            "id": "14",
            "name": "14",
            "value": 14
           },
           {
            "id": "15",
            "name": "15",
            "value": 15
           },
           {
            "id": "16",
            "name": "16",
            "value": 16
           },
           {
            "id": "17",
            "name": "17",
            "value": 17
           },
           {
            "id": "18",
            "name": "18",
            "value": 18
           },
           {
            "id": "19",
            "name": "19",
            "value": 19
           }
          ]
         }
        ],
        "style": {}
       }
      }
     },
     "1342fd3faddd4ddfaa33f863da92a66d": {
      "model_module": "jupyter-leaflet",
      "model_module_version": "^0.13.5",
      "model_name": "LeafletMapStyleModel",
      "state": {
       "_model_module_version": "^0.13.5"
      }
     },
     "14317eedd80e4b2bad4b1a823a13e672": {
      "model_module": "jupyter-leaflet",
      "model_module_version": "^0.13.5",
      "model_name": "LeafletAttributionControlModel",
      "state": {
       "_model_module_version": "^0.13.5",
       "_view_module_version": "^0.13.5",
       "options": [
        "position",
        "prefix"
       ],
       "position": "bottomright",
       "prefix": "ipyleaflet"
      }
     },
     "1aef7813d83f4fdeb6579ea0c2a8d9b6": {
      "model_module": "jupyter-leaflet",
      "model_module_version": "^0.13.5",
      "model_name": "LeafletAttributionControlModel",
      "state": {
       "_model_module_version": "^0.13.5",
       "_view_module_version": "^0.13.5",
       "options": [
        "position",
        "prefix"
       ],
       "position": "bottomright",
       "prefix": "ipyleaflet"
      }
     },
     "2434e8136591444699cd18b392c6cf6e": {
      "model_module": "jupyter-leaflet",
      "model_module_version": "^0.13.5",
      "model_name": "LeafletZoomControlModel",
      "state": {
       "_model_module_version": "^0.13.5",
       "_view_module_version": "^0.13.5",
       "options": [
        "position",
        "zoom_in_text",
        "zoom_in_title",
        "zoom_out_text",
        "zoom_out_title"
       ]
      }
     },
     "31259cb0a7a24c15ba74f000211f6120": {
      "model_module": "jupyter-leaflet",
      "model_module_version": "^0.13.5",
      "model_name": "LeafletTileLayerModel",
      "state": {
       "_model_module_version": "^0.13.5",
       "_view_module_version": "^0.13.5",
       "base": true,
       "max_native_zoom": 18,
       "max_zoom": 19,
       "min_native_zoom": 0,
       "min_zoom": 1,
       "options": [
        "attribution",
        "detect_retina",
        "max_native_zoom",
        "max_zoom",
        "min_native_zoom",
        "min_zoom",
        "no_wrap",
        "tile_size",
        "tms"
       ]
      }
     },
     "3225b96e411542dda1c11d72b896b84d": {
      "model_module": "jupyter-leaflet",
      "model_module_version": "^0.13.5",
      "model_name": "LeafletMapModel",
      "state": {
       "_model_module_version": "^0.13.5",
       "_view_module_version": "^0.13.5",
       "bottom": 2763315,
       "center": [
        52.204793,
        360.121558
       ],
       "controls": [
        "IPY_MODEL_2434e8136591444699cd18b392c6cf6e",
        "IPY_MODEL_1aef7813d83f4fdeb6579ea0c2a8d9b6"
       ],
       "default_style": "IPY_MODEL_001f2861d01c459a8d79d4786ef78faa",
       "dragging_style": "IPY_MODEL_af31ea1912574510859e2d13f9b32599",
       "east": 360.1529502868653,
       "fullscreen": false,
       "interpolation": "bilinear",
       "layers": [
        "IPY_MODEL_31259cb0a7a24c15ba74f000211f6120"
       ],
       "layout": "IPY_MODEL_b27f73c35d234bc5a2ee7e1877ce0d27",
       "left": 12585013,
       "modisdate": "yesterday",
       "north": 52.21005237674974,
       "options": [
        "bounce_at_zoom_limits",
        "box_zoom",
        "center",
        "close_popup_on_click",
        "double_click_zoom",
        "dragging",
        "fullscreen",
        "inertia",
        "inertia_deceleration",
        "inertia_max_speed",
        "interpolation",
        "keyboard",
        "keyboard_pan_offset",
        "keyboard_zoom_offset",
        "max_zoom",
        "min_zoom",
        "scroll_wheel_zoom",
        "tap",
        "tap_tolerance",
        "touch_zoom",
        "world_copy_jump",
        "zoom",
        "zoom_animation_threshold",
        "zoom_delta",
        "zoom_snap",
        "zoom_start"
       ],
       "right": 12586476,
       "south": 52.1995322644825,
       "style": "IPY_MODEL_a1a6693ca56c48c6a6dfb826deb24385",
       "top": 2762915,
       "west": 180,
       "window_url": "http://localhost:8888/lab/tree/motif.ipynb",
       "zoom": 15
      }
     },
     "39aa516e7f0c44458aa5987053ebef01": {
      "model_module": "jupyter-leaflet",
      "model_module_version": "^0.13.5",
      "model_name": "LeafletAttributionControlModel",
      "state": {
       "_model_module_version": "^0.13.5",
       "_view_module_version": "^0.13.5",
       "options": [
        "position",
        "prefix"
       ],
       "position": "bottomright",
       "prefix": "ipyleaflet"
      }
     },
     "3efc021d7fa246a4b638a528baf5defa": {
      "model_module": "jupyter-leaflet",
      "model_module_version": "^0.13.5",
      "model_name": "LeafletMapModel",
      "state": {
       "_model_module_version": "^0.13.5",
       "_view_module_version": "^0.13.5",
       "bottom": 21848,
       "center": [
        52,
        10
       ],
       "controls": [
        "IPY_MODEL_bc093142b7e94e71a2acb1965c01e23a",
        "IPY_MODEL_14317eedd80e4b2bad4b1a823a13e672"
       ],
       "default_style": "IPY_MODEL_6acffdbfd7304e069f16df8a3f1771b6",
       "dragging_style": "IPY_MODEL_78f38a5a3f614398934b355a5529d60c",
       "east": 14.018554687500002,
       "fullscreen": false,
       "interpolation": "bilinear",
       "layers": [
        "IPY_MODEL_cf7a5fb1e40746cb94b2894a014162c3"
       ],
       "layout": "IPY_MODEL_554521551d744a418e578c8ef933bf41",
       "left": 33857,
       "modisdate": "yesterday",
       "north": 52.669720383688166,
       "options": [
        "bounce_at_zoom_limits",
        "box_zoom",
        "center",
        "close_popup_on_click",
        "double_click_zoom",
        "dragging",
        "fullscreen",
        "inertia",
        "inertia_deceleration",
        "inertia_max_speed",
        "interpolation",
        "keyboard",
        "keyboard_pan_offset",
        "keyboard_zoom_offset",
        "max_zoom",
        "min_zoom",
        "scroll_wheel_zoom",
        "tap",
        "tap_tolerance",
        "touch_zoom",
        "world_copy_jump",
        "zoom",
        "zoom_animation_threshold",
        "zoom_delta",
        "zoom_snap",
        "zoom_start"
       ],
       "right": 35320,
       "south": 51.316880504045876,
       "style": "IPY_MODEL_1342fd3faddd4ddfaa33f863da92a66d",
       "top": 21448,
       "west": 5.982055664062501,
       "window_url": "http://localhost:8888/lab/tree/motif.ipynb",
       "zoom": 8
      }
     },
     "46462ddfe6444a438144fb4a29ac17cd": {
      "model_module": "jupyter-leaflet",
      "model_module_version": "^0.13.5",
      "model_name": "LeafletMapStyleModel",
      "state": {
       "_model_module_version": "^0.13.5"
      }
     },
     "554521551d744a418e578c8ef933bf41": {
      "model_module": "@jupyter-widgets/base",
      "model_module_version": "1.2.0",
      "model_name": "LayoutModel",
      "state": {}
     },
     "5a34de982c584f6ab074988afd8bbbf2": {
      "model_module": "@jupyter-widgets/base",
      "model_module_version": "1.2.0",
      "model_name": "LayoutModel",
      "state": {
       "height": "600px",
       "width": "100%"
      }
     },
     "6acffdbfd7304e069f16df8a3f1771b6": {
      "model_module": "jupyter-leaflet",
      "model_module_version": "^0.13.5",
      "model_name": "LeafletMapStyleModel",
      "state": {
       "_model_module_version": "^0.13.5"
      }
     },
     "78f38a5a3f614398934b355a5529d60c": {
      "model_module": "jupyter-leaflet",
      "model_module_version": "^0.13.5",
      "model_name": "LeafletMapStyleModel",
      "state": {
       "_model_module_version": "^0.13.5",
       "cursor": "move"
      }
     },
     "9222ef8d041b4d31b01942749da4f7b1": {
      "model_module": "jupyter-leaflet",
      "model_module_version": "^0.13.5",
      "model_name": "LeafletTileLayerModel",
      "state": {
       "_model_module_version": "^0.13.5",
       "_view_module_version": "^0.13.5",
       "base": true,
       "max_native_zoom": 18,
       "max_zoom": 19,
       "min_native_zoom": 0,
       "min_zoom": 1,
       "options": [
        "attribution",
        "detect_retina",
        "max_native_zoom",
        "max_zoom",
        "min_native_zoom",
        "min_zoom",
        "no_wrap",
        "tile_size",
        "tms"
       ]
      }
     },
     "a1a6693ca56c48c6a6dfb826deb24385": {
      "model_module": "jupyter-leaflet",
      "model_module_version": "^0.13.5",
      "model_name": "LeafletMapStyleModel",
      "state": {
       "_model_module_version": "^0.13.5"
      }
     },
     "af31ea1912574510859e2d13f9b32599": {
      "model_module": "jupyter-leaflet",
      "model_module_version": "^0.13.5",
      "model_name": "LeafletMapStyleModel",
      "state": {
       "_model_module_version": "^0.13.5",
       "cursor": "move"
      }
     },
     "b13e6dad530645ad82c654bf0f4f0d17": {
      "model_module": "@jupyter-widgets/base",
      "model_module_version": "1.2.0",
      "model_name": "LayoutModel",
      "state": {}
     },
     "b27f73c35d234bc5a2ee7e1877ce0d27": {
      "model_module": "@jupyter-widgets/base",
      "model_module_version": "1.2.0",
      "model_name": "LayoutModel",
      "state": {}
     },
     "b85ae8f22b304ba9bdc206023d187f55": {
      "model_module": "jupyter-leaflet",
      "model_module_version": "^0.13.5",
      "model_name": "LeafletMapStyleModel",
      "state": {
       "_model_module_version": "^0.13.5"
      }
     },
     "bc093142b7e94e71a2acb1965c01e23a": {
      "model_module": "jupyter-leaflet",
      "model_module_version": "^0.13.5",
      "model_name": "LeafletZoomControlModel",
      "state": {
       "_model_module_version": "^0.13.5",
       "_view_module_version": "^0.13.5",
       "options": [
        "position",
        "zoom_in_text",
        "zoom_in_title",
        "zoom_out_text",
        "zoom_out_title"
       ]
      }
     },
     "cf7a5fb1e40746cb94b2894a014162c3": {
      "model_module": "jupyter-leaflet",
      "model_module_version": "^0.13.5",
      "model_name": "LeafletTileLayerModel",
      "state": {
       "_model_module_version": "^0.13.5",
       "_view_module_version": "^0.13.5",
       "attribution": "Tiles courtesy of <a href=\"http://openstreetmap.se/\" target=\"_blank\">OpenStreetMap Sweden</a> &mdash; Map data &copy; <a href=\"http://www.openstreetmap.org/copyright\">OpenStreetMap</a>",
       "base": true,
       "max_native_zoom": 18,
       "min_native_zoom": 0,
       "min_zoom": 1,
       "name": "Hydda.Full",
       "options": [
        "attribution",
        "detect_retina",
        "max_native_zoom",
        "max_zoom",
        "min_native_zoom",
        "min_zoom",
        "no_wrap",
        "tile_size",
        "tms"
       ],
       "url": "http://{s}.tile.openstreetmap.se/hydda/full/{z}/{x}/{y}.png"
      }
     },
     "e3bab9808bd146dbb5249d867eabe402": {
      "model_module": "jupyter-leaflet",
      "model_module_version": "^0.13.5",
      "model_name": "LeafletMapStyleModel",
      "state": {
       "_model_module_version": "^0.13.5",
       "cursor": "move"
      }
     },
     "f238a87198eb497e860d104e609fb876": {
      "model_module": "jupyter-leaflet",
      "model_module_version": "^0.13.5",
      "model_name": "LeafletMapModel",
      "state": {
       "_model_module_version": "^0.13.5",
       "_view_module_version": "^0.13.5",
       "center": [
        52.204793,
        360.121558
       ],
       "controls": [
        "IPY_MODEL_0aa8af8dd098409b9ff4efc997f4a343",
        "IPY_MODEL_39aa516e7f0c44458aa5987053ebef01"
       ],
       "default_style": "IPY_MODEL_b85ae8f22b304ba9bdc206023d187f55",
       "dragging_style": "IPY_MODEL_e3bab9808bd146dbb5249d867eabe402",
       "fullscreen": false,
       "interpolation": "bilinear",
       "layers": [
        "IPY_MODEL_9222ef8d041b4d31b01942749da4f7b1"
       ],
       "layout": "IPY_MODEL_b13e6dad530645ad82c654bf0f4f0d17",
       "modisdate": "yesterday",
       "options": [
        "bounce_at_zoom_limits",
        "box_zoom",
        "center",
        "close_popup_on_click",
        "double_click_zoom",
        "dragging",
        "fullscreen",
        "inertia",
        "inertia_deceleration",
        "inertia_max_speed",
        "interpolation",
        "keyboard",
        "keyboard_pan_offset",
        "keyboard_zoom_offset",
        "max_zoom",
        "min_zoom",
        "scroll_wheel_zoom",
        "tap",
        "tap_tolerance",
        "touch_zoom",
        "world_copy_jump",
        "zoom",
        "zoom_animation_threshold",
        "zoom_delta",
        "zoom_snap",
        "zoom_start"
       ],
       "style": "IPY_MODEL_46462ddfe6444a438144fb4a29ac17cd",
       "window_url": "http://localhost:8888/lab/tree/motif.ipynb",
       "zoom": 15
      }
     }
    },
    "version_major": 2,
    "version_minor": 0
   }
  }
 },
 "nbformat": 4,
 "nbformat_minor": 4
}
