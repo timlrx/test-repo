{
 "cells": [
  {
   "cell_type": "code",
   "execution_count": 1,
   "metadata": {},
   "outputs": [],
   "source": [
    "from motif_jupyter import Motif\n",
    "import networkx as nx\n",
    "\n",
    "# NETWORKX GRAPH\n",
    "g1 = nx.fast_gnp_random_graph(20, 0.3)"
   ]
  },
  {
   "cell_type": "code",
   "execution_count": 2,
   "metadata": {},
   "outputs": [
    {
     "data": {
      "application/vnd.jupyter.widget-view+json": {
       "model_id": "d162bf489d23446693fb108a128665bd",
       "version_major": 2,
       "version_minor": 0
      },
      "text/plain": [
       "Motif(value=None, layout=Layout(height='600px', width='100%'), state={'data': [{'nodes': [{'id': '0', 'value':…"
      ]
     },
     "metadata": {},
     "output_type": "display_data"
    }
   ],
   "source": [
    "motif = Motif(nx_graph=g1, title='random')\n",
    "motif.plot()"
   ]
  },
  {
   "cell_type": "code",
   "execution_count": 3,
   "metadata": {},
   "outputs": [
    {
     "data": {
      "application/vnd.jupyter.widget-view+json": {
       "model_id": "d162bf489d23446693fb108a128665bd",
       "version_major": 2,
       "version_minor": 0
      },
      "text/plain": [
       "Motif(value=None, layout=Layout(height='600px', width='100%'), state={'data': [{'nodes': [{'id': '0', 'value':…"
      ]
     },
     "metadata": {},
     "output_type": "display_data"
    }
   ],
   "source": [
    "style = { 'layout': { 'type': 'radial' } }\n",
    "motif.set_style(style)\n",
    "motif"
   ]
  },
  {
   "cell_type": "code",
   "execution_count": 4,
   "metadata": {},
   "outputs": [
    {
     "data": {
      "application/vnd.jupyter.widget-view+json": {
       "model_id": "d162bf489d23446693fb108a128665bd",
       "version_major": 2,
       "version_minor": 0
      },
      "text/plain": [
       "Motif(value=None, layout=Layout(height='600px', width='100%'), state={'data': [{'nodes': [{'id': '0', 'value':…"
      ]
     },
     "metadata": {},
     "output_type": "display_data"
    }
   ],
   "source": [
    "motif"
   ]
  }
 ],
 "metadata": {
  "kernelspec": {
   "display_name": "Python 3",
   "language": "python",
   "name": "python3"
  },
  "language_info": {
   "codemirror_mode": {
    "name": "ipython",
    "version": 3
   },
   "file_extension": ".py",
   "mimetype": "text/x-python",
   "name": "python",
   "nbconvert_exporter": "python",
   "pygments_lexer": "ipython3",
   "version": "3.8.10"
  },
  "widgets": {
   "application/vnd.jupyter.widget-state+json": {
    "state": {},
    "version_major": 2,
    "version_minor": 0
   }
  }
 },
 "nbformat": 4,
 "nbformat_minor": 4
}
