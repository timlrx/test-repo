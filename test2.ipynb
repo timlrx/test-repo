{
 "cells": [
  {
   "cell_type": "code",
   "execution_count": 1,
   "metadata": {},
   "outputs": [],
   "source": [
    "from pymotif import Motif\n",
    "import networkx as nx\n",
    "\n",
    "# NETWORKX GRAPH\n",
    "g1 = nx.fast_gnp_random_graph(20, 0.3)"
   ]
  },
  {
   "cell_type": "code",
   "execution_count": 2,
   "metadata": {
    "slideshow": {
     "slide_type": "slide"
    },
    "tags": []
   },
   "outputs": [
    {
     "data": {
      "application/vnd.jupyter.widget-view+json": {
       "model_id": "95595702fcb84974bb6723e8d3eedeed",
       "version_major": 2,
       "version_minor": 0
      },
      "text/plain": [
       "Motif(value=None, state={'data': [{'nodes': [{'id': '0', 'value': 0, 'name': '0'}, {'id': '1', 'value': 1, 'na…"
      ]
     },
     "metadata": {},
     "output_type": "display_data"
    }
   ],
   "source": [
    "motif = Motif(nx_graph=g1, title='random')\n",
    "motif.plot()"
   ]
  },
  {
   "cell_type": "code",
   "execution_count": 3,
   "metadata": {
    "slideshow": {
     "slide_type": "slide"
    },
    "tags": []
   },
   "outputs": [
    {
     "data": {
      "application/vnd.jupyter.widget-view+json": {
       "model_id": "89dd86ef61db4f51a768055b8f659fad",
       "version_major": 2,
       "version_minor": 0
      },
      "text/plain": [
       "Map(center=[52.204793, 360.121558], controls=(ZoomControl(options=['position', 'zoom_in_text', 'zoom_in_title'…"
      ]
     },
     "metadata": {},
     "output_type": "display_data"
    }
   ],
   "source": [
    "from ipyleaflet import Map, Marker\n",
    "\n",
    "center = (52.204793, 360.121558)\n",
    "\n",
    "m = Map(center=center, zoom=15)\n",
    "m"
   ]
  },
  {
   "cell_type": "code",
   "execution_count": 4,
   "metadata": {
    "slideshow": {
     "slide_type": "slide"
    },
    "tags": []
   },
   "outputs": [
    {
     "data": {
      "application/vnd.jupyter.widget-view+json": {
       "model_id": "6e856d62267d4c5b97a023edf9d96580",
       "version_major": 2,
       "version_minor": 0
      },
      "text/plain": [
       "Motif(value=None, layout=Layout(height='600px', width='100%'), state={'data': [{'nodes': [{'id': '0', 'value':…"
      ]
     },
     "metadata": {},
     "output_type": "display_data"
    }
   ],
   "source": [
    "motif = Motif(nx_graph=g1, title='random')\n",
    "motif.plot()"
   ]
  }
 ],
 "metadata": {
  "kernelspec": {
   "display_name": "Python 3",
   "language": "python",
   "name": "python3"
  },
  "language_info": {
   "codemirror_mode": {
    "name": "ipython",
    "version": 3
   },
   "file_extension": ".py",
   "mimetype": "text/x-python",
   "name": "python",
   "nbconvert_exporter": "python",
   "pygments_lexer": "ipython3",
   "version": "3.8.10"
  },
  "toc-autonumbering": true,
  "toc-showcode": false,
  "toc-showmarkdowntxt": false,
  "toc-showtags": true,
  "widgets": {
   "application/vnd.jupyter.widget-state+json": {
    "state": {
     "26bcfc3fccc243c99ad82cb28cc67fc1": {
      "model_module": "jupyter-leaflet",
      "model_module_version": "^0.13.5",
      "model_name": "LeafletMapStyleModel",
      "state": {
       "_model_module_version": "^0.13.5",
       "cursor": "move"
      }
     },
     "63830b2cc69c46ac8499f01ce5843369": {
      "model_module": "jupyter-leaflet",
      "model_module_version": "^0.13.5",
      "model_name": "LeafletTileLayerModel",
      "state": {
       "_model_module_version": "^0.13.5",
       "_view_module_version": "^0.13.5",
       "base": true,
       "max_native_zoom": 18,
       "max_zoom": 19,
       "min_native_zoom": 0,
       "min_zoom": 1,
       "options": [
        "attribution",
        "detect_retina",
        "max_native_zoom",
        "max_zoom",
        "min_native_zoom",
        "min_zoom",
        "no_wrap",
        "tile_size",
        "tms"
       ]
      }
     },
     "690696dde8f14738a0059c48936dd150": {
      "model_module": "jupyter-leaflet",
      "model_module_version": "^0.13.5",
      "model_name": "LeafletMapStyleModel",
      "state": {
       "_model_module_version": "^0.13.5"
      }
     },
     "89dd86ef61db4f51a768055b8f659fad": {
      "model_module": "jupyter-leaflet",
      "model_module_version": "^0.13.5",
      "model_name": "LeafletMapModel",
      "state": {
       "_model_module_version": "^0.13.5",
       "_view_module_version": "^0.13.5",
       "bottom": 2763315,
       "center": [
        52.204793,
        360.121558
       ],
       "controls": [
        "IPY_MODEL_cbc0d3e34f864c28815f4ff2631417ca",
        "IPY_MODEL_ac531397bb1c406dba7f628659bad478"
       ],
       "default_style": "IPY_MODEL_690696dde8f14738a0059c48936dd150",
       "dragging_style": "IPY_MODEL_26bcfc3fccc243c99ad82cb28cc67fc1",
       "east": 360.14260768890387,
       "fullscreen": false,
       "interpolation": "bilinear",
       "layers": [
        "IPY_MODEL_63830b2cc69c46ac8499f01ce5843369"
       ],
       "layout": "IPY_MODEL_dd83838cdb31485c866334516558ca8d",
       "left": 12585255,
       "modisdate": "yesterday",
       "north": 52.21005237674974,
       "options": [
        "bounce_at_zoom_limits",
        "box_zoom",
        "center",
        "close_popup_on_click",
        "double_click_zoom",
        "dragging",
        "fullscreen",
        "inertia",
        "inertia_deceleration",
        "inertia_max_speed",
        "interpolation",
        "keyboard",
        "keyboard_pan_offset",
        "keyboard_zoom_offset",
        "max_zoom",
        "min_zoom",
        "scroll_wheel_zoom",
        "tap",
        "tap_tolerance",
        "touch_zoom",
        "world_copy_jump",
        "zoom",
        "zoom_animation_threshold",
        "zoom_delta",
        "zoom_snap",
        "zoom_start"
       ],
       "right": 12586235,
       "south": 52.1995322644825,
       "style": "IPY_MODEL_cff579437dfe48508be03a743f083712",
       "top": 2762915,
       "west": 180,
       "window_url": "http://localhost:8888/notebooks/motif.ipynb",
       "zoom": 15
      }
     },
     "8ebc566ea25f46869f413252710b9cdb": {
      "model_module": "@jupyter-widgets/base",
      "model_module_version": "1.2.0",
      "model_name": "LayoutModel",
      "state": {}
     },
     "95595702fcb84974bb6723e8d3eedeed": {
      "model_module": "@cylynx/pymotif",
      "model_module_version": "^0.0.1",
      "model_name": "MotifModel",
      "state": {
       "_model_module_version": "^0.0.1",
       "_view_module_version": "^0.0.1",
       "layout": "IPY_MODEL_8ebc566ea25f46869f413252710b9cdb",
       "state": {
        "data": [
         {
          "edges": [
           {
            "source": 0,
            "target": 6
           },
           {
            "source": 0,
            "target": 7
           },
           {
            "source": 0,
            "target": 14
           },
           {
            "source": 0,
            "target": 15
           },
           {
            "source": 0,
            "target": 16
           },
           {
            "source": 1,
            "target": 3
           },
           {
            "source": 1,
            "target": 7
           },
           {
            "source": 1,
            "target": 8
           },
           {
            "source": 1,
            "target": 10
           },
           {
            "source": 1,
            "target": 13
           },
           {
            "source": 2,
            "target": 4
           },
           {
            "source": 2,
            "target": 6
           },
           {
            "source": 2,
            "target": 7
           },
           {
            "source": 2,
            "target": 11
           },
           {
            "source": 2,
            "target": 12
           },
           {
            "source": 2,
            "target": 17
           },
           {
            "source": 2,
            "target": 18
           },
           {
            "source": 3,
            "target": 5
           },
           {
            "source": 3,
            "target": 13
           },
           {
            "source": 4,
            "target": 7
           },
           {
            "source": 4,
            "target": 11
           },
           {
            "source": 4,
            "target": 12
           },
           {
            "source": 4,
            "target": 18
           },
           {
            "source": 5,
            "target": 6
           },
           {
            "source": 5,
            "target": 9
           },
           {
            "source": 5,
            "target": 10
           },
           {
            "source": 5,
            "target": 11
           },
           {
            "source": 5,
            "target": 12
           },
           {
            "source": 5,
            "target": 18
           },
           {
            "source": 6,
            "target": 14
           },
           {
            "source": 6,
            "target": 19
           },
           {
            "source": 7,
            "target": 11
           },
           {
            "source": 7,
            "target": 14
           },
           {
            "source": 7,
            "target": 16
           },
           {
            "source": 7,
            "target": 19
           },
           {
            "source": 8,
            "target": 10
           },
           {
            "source": 8,
            "target": 17
           },
           {
            "source": 8,
            "target": 18
           },
           {
            "source": 9,
            "target": 11
           },
           {
            "source": 9,
            "target": 16
           },
           {
            "source": 10,
            "target": 15
           },
           {
            "source": 10,
            "target": 17
           },
           {
            "source": 10,
            "target": 18
           },
           {
            "source": 11,
            "target": 13
           },
           {
            "source": 11,
            "target": 17
           },
           {
            "source": 12,
            "target": 16
           },
           {
            "source": 12,
            "target": 17
           },
           {
            "source": 13,
            "target": 15
           },
           {
            "source": 13,
            "target": 16
           },
           {
            "source": 13,
            "target": 17
           },
           {
            "source": 13,
            "target": 19
           },
           {
            "source": 14,
            "target": 16
           },
           {
            "source": 14,
            "target": 17
           },
           {
            "source": 14,
            "target": 19
           },
           {
            "source": 16,
            "target": 19
           },
           {
            "source": 17,
            "target": 19
           },
           {
            "source": 18,
            "target": 19
           }
          ],
          "metadata": {
           "title": "random"
          },
          "nodes": [
           {
            "id": "0",
            "name": "0",
            "value": 0
           },
           {
            "id": "1",
            "name": "1",
            "value": 1
           },
           {
            "id": "2",
            "name": "2",
            "value": 2
           },
           {
            "id": "3",
            "name": "3",
            "value": 3
           },
           {
            "id": "4",
            "name": "4",
            "value": 4
           },
           {
            "id": "5",
            "name": "5",
            "value": 5
           },
           {
            "id": "6",
            "name": "6",
            "value": 6
           },
           {
            "id": "7",
            "name": "7",
            "value": 7
           },
           {
            "id": "8",
            "name": "8",
            "value": 8
           },
           {
            "id": "9",
            "name": "9",
            "value": 9
           },
           {
            "id": "10",
            "name": "10",
            "value": 10
           },
           {
            "id": "11",
            "name": "11",
            "value": 11
           },
           {
            "id": "12",
            "name": "12",
            "value": 12
           },
           {
            "id": "13",
            "name": "13",
            "value": 13
           },
           {
            "id": "14",
            "name": "14",
            "value": 14
           },
           {
            "id": "15",
            "name": "15",
            "value": 15
           },
           {
            "id": "16",
            "name": "16",
            "value": 16
           },
           {
            "id": "17",
            "name": "17",
            "value": 17
           },
           {
            "id": "18",
            "name": "18",
            "value": 18
           },
           {
            "id": "19",
            "name": "19",
            "value": 19
           }
          ]
         }
        ],
        "style": {}
       }
      }
     },
     "ac531397bb1c406dba7f628659bad478": {
      "model_module": "jupyter-leaflet",
      "model_module_version": "^0.13.5",
      "model_name": "LeafletAttributionControlModel",
      "state": {
       "_model_module_version": "^0.13.5",
       "_view_module_version": "^0.13.5",
       "options": [
        "position",
        "prefix"
       ],
       "position": "bottomright",
       "prefix": "ipyleaflet"
      }
     },
     "cbc0d3e34f864c28815f4ff2631417ca": {
      "model_module": "jupyter-leaflet",
      "model_module_version": "^0.13.5",
      "model_name": "LeafletZoomControlModel",
      "state": {
       "_model_module_version": "^0.13.5",
       "_view_module_version": "^0.13.5",
       "options": [
        "position",
        "zoom_in_text",
        "zoom_in_title",
        "zoom_out_text",
        "zoom_out_title"
       ]
      }
     },
     "cff579437dfe48508be03a743f083712": {
      "model_module": "jupyter-leaflet",
      "model_module_version": "^0.13.5",
      "model_name": "LeafletMapStyleModel",
      "state": {
       "_model_module_version": "^0.13.5"
      }
     },
     "dd83838cdb31485c866334516558ca8d": {
      "model_module": "@jupyter-widgets/base",
      "model_module_version": "1.2.0",
      "model_name": "LayoutModel",
      "state": {}
     }
    },
    "version_major": 2,
    "version_minor": 0
   }
  }
 },
 "nbformat": 4,
 "nbformat_minor": 4
}
