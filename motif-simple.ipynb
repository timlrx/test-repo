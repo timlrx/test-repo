{
 "cells": [
  {
   "cell_type": "code",
   "execution_count": 2,
   "id": "f69791c1-d8bf-4992-9923-86eb73c8435a",
   "metadata": {},
   "outputs": [],
   "source": [
    "from pymotif import Motif\n",
    "import networkx as nx\n",
    "\n",
    "# NETWORKX GRAPH\n",
    "g1 = nx.balanced_tree(4, 3)"
   ]
  },
  {
   "cell_type": "code",
   "execution_count": 3,
   "id": "3fc3e932-dc2b-4b81-b1fd-1fce4abb4c91",
   "metadata": {},
   "outputs": [
    {
     "data": {
      "application/vnd.jupyter.widget-view+json": {
       "model_id": "2a49c3dc653245b0978d2a11641b791a",
       "version_major": 2,
       "version_minor": 0
      },
      "text/plain": [
       "Motif(value=None, layout=Layout(height='600px', width='100%'), state={'data': [{'nodes': [{'id': '0', 'value':…"
      ]
     },
     "metadata": {},
     "output_type": "display_data"
    }
   ],
   "source": [
    "motif = Motif(nx_graph=g1, title='tree', style={'layout': {'type': 'circular'}})\n",
    "motif.plot()"
   ]
  }
 ],
 "metadata": {
  "kernelspec": {
   "display_name": "Python 3",
   "language": "python",
   "name": "python3"
  },
  "language_info": {
   "codemirror_mode": {
    "name": "ipython",
    "version": 3
   },
   "file_extension": ".py",
   "mimetype": "text/x-python",
   "name": "python",
   "nbconvert_exporter": "python",
   "pygments_lexer": "ipython3",
   "version": "3.8.10"
  },
  "widgets": {
   "application/vnd.jupyter.widget-state+json": {
    "state": {
     "2a49c3dc653245b0978d2a11641b791a": {
      "model_module": "@cylynx/pymotif",
      "model_module_version": "^0.0.1-beta.2",
      "model_name": "MotifModel",
      "state": {
       "_model_module_version": "^0.0.1-beta.2",
       "_view_module_version": "^0.0.1-beta.2",
       "group_edges": true,
       "layout": "IPY_MODEL_603870373d584547b7e80a79d46a2372",
       "state": {
        "data": [
         {
          "edges": [
           {
            "source": 0,
            "target": 1
           },
           {
            "source": 0,
            "target": 2
           },
           {
            "source": 0,
            "target": 3
           },
           {
            "source": 0,
            "target": 4
           },
           {
            "source": 1,
            "target": 5
           },
           {
            "source": 1,
            "target": 6
           },
           {
            "source": 1,
            "target": 7
           },
           {
            "source": 1,
            "target": 8
           },
           {
            "source": 2,
            "target": 9
           },
           {
            "source": 2,
            "target": 10
           },
           {
            "source": 2,
            "target": 11
           },
           {
            "source": 2,
            "target": 12
           },
           {
            "source": 3,
            "target": 13
           },
           {
            "source": 3,
            "target": 14
           },
           {
            "source": 3,
            "target": 15
           },
           {
            "source": 3,
            "target": 16
           },
           {
            "source": 4,
            "target": 17
           },
           {
            "source": 4,
            "target": 18
           },
           {
            "source": 4,
            "target": 19
           },
           {
            "source": 4,
            "target": 20
           },
           {
            "source": 5,
            "target": 21
           },
           {
            "source": 5,
            "target": 22
           },
           {
            "source": 5,
            "target": 23
           },
           {
            "source": 5,
            "target": 24
           },
           {
            "source": 6,
            "target": 25
           },
           {
            "source": 6,
            "target": 26
           },
           {
            "source": 6,
            "target": 27
           },
           {
            "source": 6,
            "target": 28
           },
           {
            "source": 7,
            "target": 29
           },
           {
            "source": 7,
            "target": 30
           },
           {
            "source": 7,
            "target": 31
           },
           {
            "source": 7,
            "target": 32
           },
           {
            "source": 8,
            "target": 33
           },
           {
            "source": 8,
            "target": 34
           },
           {
            "source": 8,
            "target": 35
           },
           {
            "source": 8,
            "target": 36
           },
           {
            "source": 9,
            "target": 37
           },
           {
            "source": 9,
            "target": 38
           },
           {
            "source": 9,
            "target": 39
           },
           {
            "source": 9,
            "target": 40
           },
           {
            "source": 10,
            "target": 41
           },
           {
            "source": 10,
            "target": 42
           },
           {
            "source": 10,
            "target": 43
           },
           {
            "source": 10,
            "target": 44
           },
           {
            "source": 11,
            "target": 45
           },
           {
            "source": 11,
            "target": 46
           },
           {
            "source": 11,
            "target": 47
           },
           {
            "source": 11,
            "target": 48
           },
           {
            "source": 12,
            "target": 49
           },
           {
            "source": 12,
            "target": 50
           },
           {
            "source": 12,
            "target": 51
           },
           {
            "source": 12,
            "target": 52
           },
           {
            "source": 13,
            "target": 53
           },
           {
            "source": 13,
            "target": 54
           },
           {
            "source": 13,
            "target": 55
           },
           {
            "source": 13,
            "target": 56
           },
           {
            "source": 14,
            "target": 57
           },
           {
            "source": 14,
            "target": 58
           },
           {
            "source": 14,
            "target": 59
           },
           {
            "source": 14,
            "target": 60
           },
           {
            "source": 15,
            "target": 61
           },
           {
            "source": 15,
            "target": 62
           },
           {
            "source": 15,
            "target": 63
           },
           {
            "source": 15,
            "target": 64
           },
           {
            "source": 16,
            "target": 65
           },
           {
            "source": 16,
            "target": 66
           },
           {
            "source": 16,
            "target": 67
           },
           {
            "source": 16,
            "target": 68
           },
           {
            "source": 17,
            "target": 69
           },
           {
            "source": 17,
            "target": 70
           },
           {
            "source": 17,
            "target": 71
           },
           {
            "source": 17,
            "target": 72
           },
           {
            "source": 18,
            "target": 73
           },
           {
            "source": 18,
            "target": 74
           },
           {
            "source": 18,
            "target": 75
           },
           {
            "source": 18,
            "target": 76
           },
           {
            "source": 19,
            "target": 77
           },
           {
            "source": 19,
            "target": 78
           },
           {
            "source": 19,
            "target": 79
           },
           {
            "source": 19,
            "target": 80
           },
           {
            "source": 20,
            "target": 81
           },
           {
            "source": 20,
            "target": 82
           },
           {
            "source": 20,
            "target": 83
           },
           {
            "source": 20,
            "target": 84
           }
          ],
          "metadata": {
           "title": "tree"
          },
          "nodes": [
           {
            "id": "0",
            "name": "0",
            "value": 0
           },
           {
            "id": "1",
            "name": "1",
            "value": 1
           },
           {
            "id": "2",
            "name": "2",
            "value": 2
           },
           {
            "id": "3",
            "name": "3",
            "value": 3
           },
           {
            "id": "4",
            "name": "4",
            "value": 4
           },
           {
            "id": "5",
            "name": "5",
            "value": 5
           },
           {
            "id": "6",
            "name": "6",
            "value": 6
           },
           {
            "id": "7",
            "name": "7",
            "value": 7
           },
           {
            "id": "8",
            "name": "8",
            "value": 8
           },
           {
            "id": "9",
            "name": "9",
            "value": 9
           },
           {
            "id": "10",
            "name": "10",
            "value": 10
           },
           {
            "id": "11",
            "name": "11",
            "value": 11
           },
           {
            "id": "12",
            "name": "12",
            "value": 12
           },
           {
            "id": "13",
            "name": "13",
            "value": 13
           },
           {
            "id": "14",
            "name": "14",
            "value": 14
           },
           {
            "id": "15",
            "name": "15",
            "value": 15
           },
           {
            "id": "16",
            "name": "16",
            "value": 16
           },
           {
            "id": "17",
            "name": "17",
            "value": 17
           },
           {
            "id": "18",
            "name": "18",
            "value": 18
           },
           {
            "id": "19",
            "name": "19",
            "value": 19
           },
           {
            "id": "20",
            "name": "20",
            "value": 20
           },
           {
            "id": "21",
            "name": "21",
            "value": 21
           },
           {
            "id": "22",
            "name": "22",
            "value": 22
           },
           {
            "id": "23",
            "name": "23",
            "value": 23
           },
           {
            "id": "24",
            "name": "24",
            "value": 24
           },
           {
            "id": "25",
            "name": "25",
            "value": 25
           },
           {
            "id": "26",
            "name": "26",
            "value": 26
           },
           {
            "id": "27",
            "name": "27",
            "value": 27
           },
           {
            "id": "28",
            "name": "28",
            "value": 28
           },
           {
            "id": "29",
            "name": "29",
            "value": 29
           },
           {
            "id": "30",
            "name": "30",
            "value": 30
           },
           {
            "id": "31",
            "name": "31",
            "value": 31
           },
           {
            "id": "32",
            "name": "32",
            "value": 32
           },
           {
            "id": "33",
            "name": "33",
            "value": 33
           },
           {
            "id": "34",
            "name": "34",
            "value": 34
           },
           {
            "id": "35",
            "name": "35",
            "value": 35
           },
           {
            "id": "36",
            "name": "36",
            "value": 36
           },
           {
            "id": "37",
            "name": "37",
            "value": 37
           },
           {
            "id": "38",
            "name": "38",
            "value": 38
           },
           {
            "id": "39",
            "name": "39",
            "value": 39
           },
           {
            "id": "40",
            "name": "40",
            "value": 40
           },
           {
            "id": "41",
            "name": "41",
            "value": 41
           },
           {
            "id": "42",
            "name": "42",
            "value": 42
           },
           {
            "id": "43",
            "name": "43",
            "value": 43
           },
           {
            "id": "44",
            "name": "44",
            "value": 44
           },
           {
            "id": "45",
            "name": "45",
            "value": 45
           },
           {
            "id": "46",
            "name": "46",
            "value": 46
           },
           {
            "id": "47",
            "name": "47",
            "value": 47
           },
           {
            "id": "48",
            "name": "48",
            "value": 48
           },
           {
            "id": "49",
            "name": "49",
            "value": 49
           },
           {
            "id": "50",
            "name": "50",
            "value": 50
           },
           {
            "id": "51",
            "name": "51",
            "value": 51
           },
           {
            "id": "52",
            "name": "52",
            "value": 52
           },
           {
            "id": "53",
            "name": "53",
            "value": 53
           },
           {
            "id": "54",
            "name": "54",
            "value": 54
           },
           {
            "id": "55",
            "name": "55",
            "value": 55
           },
           {
            "id": "56",
            "name": "56",
            "value": 56
           },
           {
            "id": "57",
            "name": "57",
            "value": 57
           },
           {
            "id": "58",
            "name": "58",
            "value": 58
           },
           {
            "id": "59",
            "name": "59",
            "value": 59
           },
           {
            "id": "60",
            "name": "60",
            "value": 60
           },
           {
            "id": "61",
            "name": "61",
            "value": 61
           },
           {
            "id": "62",
            "name": "62",
            "value": 62
           },
           {
            "id": "63",
            "name": "63",
            "value": 63
           },
           {
            "id": "64",
            "name": "64",
            "value": 64
           },
           {
            "id": "65",
            "name": "65",
            "value": 65
           },
           {
            "id": "66",
            "name": "66",
            "value": 66
           },
           {
            "id": "67",
            "name": "67",
            "value": 67
           },
           {
            "id": "68",
            "name": "68",
            "value": 68
           },
           {
            "id": "69",
            "name": "69",
            "value": 69
           },
           {
            "id": "70",
            "name": "70",
            "value": 70
           },
           {
            "id": "71",
            "name": "71",
            "value": 71
           },
           {
            "id": "72",
            "name": "72",
            "value": 72
           },
           {
            "id": "73",
            "name": "73",
            "value": 73
           },
           {
            "id": "74",
            "name": "74",
            "value": 74
           },
           {
            "id": "75",
            "name": "75",
            "value": 75
           },
           {
            "id": "76",
            "name": "76",
            "value": 76
           },
           {
            "id": "77",
            "name": "77",
            "value": 77
           },
           {
            "id": "78",
            "name": "78",
            "value": 78
           },
           {
            "id": "79",
            "name": "79",
            "value": 79
           },
           {
            "id": "80",
            "name": "80",
            "value": 80
           },
           {
            "id": "81",
            "name": "81",
            "value": 81
           },
           {
            "id": "82",
            "name": "82",
            "value": 82
           },
           {
            "id": "83",
            "name": "83",
            "value": 83
           },
           {
            "id": "84",
            "name": "84",
            "value": 84
           }
          ]
         }
        ],
        "style": {
         "layout": {
          "type": "circular"
         }
        }
       }
      }
     },
     "603870373d584547b7e80a79d46a2372": {
      "model_module": "@jupyter-widgets/base",
      "model_module_version": "1.2.0",
      "model_name": "LayoutModel",
      "state": {
       "height": "600px",
       "width": "100%"
      }
     }
    },
    "version_major": 2,
    "version_minor": 0
   }
  }
 },
 "nbformat": 4,
 "nbformat_minor": 5
}
